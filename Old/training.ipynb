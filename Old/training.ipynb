{
 "cells": [
  {
   "cell_type": "code",
   "execution_count": null,
   "metadata": {},
   "outputs": [],
   "source": [
    "import torch\n",
    "from transformers import AutoModelForCausalLM, AutoTokenizer, TrainingArguments, Trainer, DataCollatorForLanguageModeling\n",
    "import pandas as pd\n",
    "from datasets import Dataset\n",
    "import os\n",
    "from peft import LoraConfig, get_peft_model, prepare_model_for_kbit_training"
   ]
  },
  {
   "cell_type": "code",
   "execution_count": null,
   "metadata": {},
   "outputs": [],
   "source": [
    "# Load model and tokenizer\n",
    "model_id = \"kalisai/Nusantara-1.8b-Indo-Chat\"\n",
    "device = \"cuda\" if torch.cuda.is_available() else \"cpu\"\n",
    "\n",
    "print(f\"Loading model and tokenizer from {model_id}...\")\n",
    "model = AutoModelForCausalLM.from_pretrained(\n",
    "    model_id,\n",
    "    torch_dtype=\"auto\",\n",
    "    device_map=\"auto\",  # Use auto device mapping for better memory management\n",
    "    low_cpu_mem_usage=True,\n",
    "    load_in_8bit=True,  # Load model in 8-bit precision to reduce memory usage\n",
    "    use_cache=False  # Disable KV cache for compatibility with gradient checkpointing\n",
    ")\n",
    "tokenizer = AutoTokenizer.from_pretrained(model_id)\n",
    "\n",
    "# Set pad token if not set\n",
    "if tokenizer.pad_token_id is None:\n",
    "    tokenizer.pad_token_id = tokenizer.eos_token_id"
   ]
  },
  {
   "cell_type": "code",
   "execution_count": null,
   "metadata": {},
   "outputs": [],
   "source": [
    "# Prepare the model for training with LoRA\n",
    "print(\"Preparing model for training with LoRA...\")\n",
    "model = prepare_model_for_kbit_training(model)\n",
    "\n",
    "# Define LoRA configuration\n",
    "lora_config = LoraConfig(\n",
    "    r=16,  # Rank\n",
    "    lora_alpha=32,\n",
    "    target_modules=[\"q_proj\", \"v_proj\", \"k_proj\", \"o_proj\", \"gate_proj\", \"up_proj\", \"down_proj\"],\n",
    "    lora_dropout=0.05,\n",
    "    bias=\"none\",\n",
    "    task_type=\"CAUSAL_LM\"\n",
    ")\n",
    "\n",
    "# Apply LoRA to the model\n",
    "model = get_peft_model(model, lora_config)\n",
    "print(\"LoRA adapters added to the model\")"
   ]
  },
  {
   "cell_type": "code",
   "execution_count": null,
   "metadata": {},
   "outputs": [],
   "source": [
    "# Load and prepare dataset\n",
    "print(\"Loading dataset...\")\n",
    "dataset_path = os.path.join(\"dataset\", \"Indonesian_Food_Recipes.csv\")\n",
    "\n",
    "if not os.path.exists(dataset_path):\n",
    "    raise FileNotFoundError(f\"Dataset file not found at {dataset_path}. Please ensure the file exists in the 'dataset' folder.\")\n",
    "\n",
    "df = pd.read_csv(dataset_path)\n",
    "\n",
    "# Print dataset columns\n",
    "print(\"Dataset columns:\")\n",
    "print(df.columns)"
   ]
  },
  {
   "cell_type": "code",
   "execution_count": null,
   "metadata": {},
   "outputs": [],
   "source": [
    "def prepare_data(row):\n",
    "    # Format the recipe data into a chat format\n",
    "    system_msg = \"Kamu adalah Chef Indonesia yang ahli dalam masakan tradisional. Tugasmu adalah memberikan resep lengkap dengan bahan-bahan dan langkah memasak yang detail dan mudah diikuti.\"\n",
    "    user_msg = f\"Tolong ajarkan saya resep lengkap untuk membuat {row['Title']}. Saya ingin mengetahui bahan-bahan dan langkah-langkahnya secara detail.\"\n",
    "    assistant_msg = f\"\"\"Saya akan membantu Anda membuat {row['Title']}.\n",
    "\n",
    "Berikut adalah bahan-bahan yang diperlukan:\n",
    "{row['Ingredients']}\n",
    "\n",
    "Langkah-langkah pembuatan:\n",
    "{row['Steps']}\n",
    "\n",
    "Tips:\n",
    "- Pastikan semua bahan sudah disiapkan sebelum mulai memasak\n",
    "- Ikuti langkah-langkah dengan teliti untuk hasil terbaik\n",
    "- Sesuaikan tingkat kepedasan dan rasa sesuai selera\"\"\"\n",
    "    \n",
    "    messages = [\n",
    "        {\"role\": \"system\", \"content\": system_msg},\n",
    "        {\"role\": \"user\", \"content\": user_msg},\n",
    "        {\"role\": \"assistant\", \"content\": assistant_msg}\n",
    "    ]\n",
    "    \n",
    "    # Apply chat template\n",
    "    return {\"text\": tokenizer.apply_chat_template(messages, tokenize=False)}\n",
    "\n",
    "# Convert DataFrame to Dataset\n",
    "dataset = Dataset.from_pandas(df)\n",
    "dataset = dataset.map(prepare_data)"
   ]
  },
  {
   "cell_type": "code",
   "execution_count": null,
   "metadata": {},
   "outputs": [],
   "source": [
    "def tokenize_function(examples):\n",
    "    return tokenizer(\n",
    "        examples[\"text\"],\n",
    "        padding=\"max_length\",\n",
    "        truncation=True,\n",
    "        max_length=384  # Reduced from 512 to save memory\n",
    "    )\n",
    "\n",
    "# Tokenize dataset\n",
    "tokenized_dataset = dataset.map(\n",
    "    tokenize_function,\n",
    "    batched=True,\n",
    "    remove_columns=dataset.column_names\n",
    ")"
   ]
  },
  {
   "cell_type": "code",
   "execution_count": null,
   "metadata": {},
   "outputs": [],
   "source": [
    "# Create data collator for language modeling\n",
    "data_collator = DataCollatorForLanguageModeling(\n",
    "    tokenizer=tokenizer,\n",
    "    mlm=False  # We're doing causal language modeling, not masked language modeling\n",
    ")"
   ]
  },
  {
   "cell_type": "code",
   "execution_count": null,
   "metadata": {},
   "outputs": [],
   "source": [
    "# Define training arguments\n",
    "training_args = TrainingArguments(\n",
    "    output_dir=\"./indonesian-food-model\",\n",
    "    num_train_epochs=3,\n",
    "    per_device_train_batch_size=1,  # Reduced batch size to save memory\n",
    "    gradient_accumulation_steps=4,  # Accumulate gradients to simulate larger batch size\n",
    "    save_steps=500,\n",
    "    save_total_limit=2,\n",
    "    logging_dir=\"./logs\",\n",
    "    logging_steps=100,\n",
    "    learning_rate=2e-5,\n",
    "    weight_decay=0.01,\n",
    "    fp16=True if torch.cuda.is_available() else False,\n",
    "    prediction_loss_only=True,  # Only return loss during training\n",
    "    gradient_checkpointing=True,  # Enable gradient checkpointing to save memory\n",
    ")"
   ]
  },
  {
   "cell_type": "code",
   "execution_count": null,
   "metadata": {},
   "outputs": [],
   "source": [
    "# Initialize Trainer\n",
    "trainer = Trainer(\n",
    "    model=model,\n",
    "    args=training_args,\n",
    "    train_dataset=tokenized_dataset,\n",
    "    data_collator=data_collator,  # Use the data collator instead of tokenizer\n",
    "    label_names=[\"input_ids\", \"attention_mask\"],  # Explicitly provide label_names for PeftModelForCausalLM\n",
    ")"
   ]
  },
  {
   "cell_type": "code",
   "execution_count": null,
   "metadata": {},
   "outputs": [],
   "source": [
    "# Start training\n",
    "print(\"Starting training...\")\n",
    "trainer.train()"
   ]
  },
  {
   "cell_type": "code",
   "execution_count": null,
   "metadata": {},
   "outputs": [],
   "source": [
    "# Save the model\n",
    "print(\"Saving model...\")\n",
    "trainer.save_model(\"./indonesian-food-model-final\")\n",
    "print(\"Training completed!\")"
   ]
  }
 ],
 "metadata": {
  "kernelspec": {
   "display_name": "Python 3",
   "language": "python",
   "name": "python3"
  },
  "language_info": {
   "codemirror_mode": {
    "name": "ipython",
    "version": 3
   },
   "file_extension": ".py",
   "mimetype": "text/x-python",
   "name": "python",
   "nbconvert_exporter": "python",
   "pygments_lexer": "ipython3",
   "version": "3.8.10"
  }
 },
 "nbformat": 4,
 "nbformat_minor": 4
}
